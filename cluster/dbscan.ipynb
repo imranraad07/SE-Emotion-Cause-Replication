{
 "cells": [
  {
   "cell_type": "code",
   "execution_count": null,
   "metadata": {},
   "outputs": [],
   "source": [
    "import string\n",
    "\n",
    "# %pip install nltk\n",
    "# %pip install pandas\n",
    "# %pip install scikit-learn\n",
    "\n",
    "import pandas as pd\n",
    "import nltk\n",
    "from nltk.corpus import wordnet\n",
    "\n",
    "\n",
    "\n",
    "from nltk.stem import WordNetLemmatizer\n",
    "\n",
    "from nltk.corpus import stopwords\n",
    "from sklearn.feature_extraction.text import TfidfVectorizer\n",
    "from sklearn.cluster import DBSCAN\n",
    "from sklearn.preprocessing import StandardScaler\n",
    "import numpy as np\n",
    "import re\n",
    "import nltk\n",
    "from sklearn.metrics.pairwise import cosine_similarity\n",
    "from nltk.stem.porter import PorterStemmer\n",
    "\n",
    "# nltk.download('punkt')\n",
    "# nltk.download('stopwords')\n",
    "# nltk.download('wordnet')\n",
    "# nltk.download('omw-1.4')\n",
    "# nltk.download('averaged_perceptron_tagger')"
   ]
  },
  {
   "cell_type": "markdown",
   "metadata": {},
   "source": [
    "## Pre-processing"
   ]
  },
  {
   "cell_type": "code",
   "execution_count": null,
   "metadata": {},
   "outputs": [],
   "source": [
    "lemmatizer = WordNetLemmatizer()\n",
    "\n",
    "sw = stopwords.words('english')\n",
    "porter_stemmer = PorterStemmer()\n",
    "\n",
    "\n",
    "def text_cleaning(text):\n",
    "    text = str (text)\n",
    "\n",
    "    printable = set(string.printable)\n",
    "    text = ''.join(filter(lambda x: x in printable, text))\n",
    "    text = text.replace('\\x00', ' ')  # remove nulls\n",
    "    text = text.replace('\\r', ' ')\n",
    "    text = text.replace('\\n', ' ')\n",
    "\n",
    "    # Define a regular expression pattern to match URLs\n",
    "    url_pattern = r'http[s]?://(?:[a-zA-Z]|[0-9]|[$-_@.&+]|[!*\\\\(\\\\),]|(?:%[0-9a-fA-F][0-9a-fA-F]))+'\n",
    "    text = re.sub(url_pattern, '', text)\n",
    "\n",
    "    text = re.sub('[^0-9a-zA-Z]+', ' ', text)\n",
    "    # text = re.sub(\"(<.*?>)\", \"\", text)  # remove html markup\n",
    "    # text = re.sub(\"(\\W|\\d)\", \" \", text)  # remove non-ascii and digits\n",
    "    text = text.lower()  # Lowercasing\n",
    "\n",
    "    # def remove_sw(word_list):\n",
    "    #     keep = []\n",
    "    #     for word in word_list:\n",
    "    #         if not word in sw:\n",
    "    #             keep.append(word)\n",
    "    #     return keep\n",
    "\n",
    "    # words = text.split()\n",
    "    # removed_stop_words = remove_sw(words)\n",
    "    # text = ' '.join([str(elem) for elem in removed_stop_words])\n",
    "\n",
    "    words = nltk.word_tokenize(text)\n",
    "    pos_tags = nltk.pos_tag(words)\n",
    "    wn_tags = {'N': wordnet.NOUN, 'V': wordnet.VERB, 'R': wordnet.ADV, 'J': wordnet.ADJ}\n",
    "    # lemmatize each word with its POS tag\n",
    "    lemmatized_words = []\n",
    "    for word, pos in pos_tags:\n",
    "        if pos[0] in wn_tags:\n",
    "            wn_tag = wn_tags[pos[0]]\n",
    "            lemmatized_words.append(lemmatizer.lemmatize(word, wn_tag))\n",
    "        else:\n",
    "            lemmatized_words.append(word)\n",
    "    text = ' '.join([str(elem) for elem in lemmatized_words])\n",
    "\n",
    "    # words= text.split()\n",
    "    # stemmed_words=[porter_stemmer.stem(word=word) for word in words] # Stemming\n",
    "    # text = ' '.join([str(elem) for elem in stemmed_words])\n",
    "\n",
    "    text = text.strip()\n",
    "    return text\n"
   ]
  },
  {
   "cell_type": "code",
   "execution_count": null,
   "metadata": {},
   "outputs": [],
   "source": [
    "text_cleaning(\"I'm getting the same error, on 2.9.0 but I reproduced it in 2.8.0 and 2.9.1 too.\")"
   ]
  },
  {
   "cell_type": "code",
   "execution_count": null,
   "metadata": {},
   "outputs": [],
   "source": [
    "df = pd.read_csv(\"filtered_contributors.csv\")\n",
    "df"
   ]
  },
  {
   "cell_type": "code",
   "execution_count": null,
   "metadata": {},
   "outputs": [],
   "source": [
    "comments = df[\"Comment\"]"
   ]
  },
  {
   "cell_type": "code",
   "execution_count": null,
   "metadata": {},
   "outputs": [],
   "source": [
    "corpus = df[\"Emotion Causes\"]"
   ]
  },
  {
   "cell_type": "code",
   "execution_count": null,
   "metadata": {},
   "outputs": [],
   "source": [
    "len(corpus)"
   ]
  },
  {
   "cell_type": "code",
   "execution_count": null,
   "metadata": {},
   "outputs": [],
   "source": [
    "processed_corpus = corpus.apply(text_cleaning)"
   ]
  },
  {
   "cell_type": "code",
   "execution_count": null,
   "metadata": {},
   "outputs": [],
   "source": [
    "from sentence_transformers import SentenceTransformer\n",
    "from sklearn.decomposition import PCA\n",
    "import matplotlib.pyplot as plt\n",
    "from sklearn.metrics.pairwise import cosine_distances, euclidean_distances\n",
    "\n",
    "model = SentenceTransformer('all-mpnet-base-v2')\n",
    "sentence_embeddings = model.encode(processed_corpus)\n",
    "\n",
    "pairwise_distances = cosine_distances(sentence_embeddings)"
   ]
  },
  {
   "cell_type": "markdown",
   "metadata": {},
   "source": [
    "## Clustering (DBSCAN)"
   ]
  },
  {
   "cell_type": "code",
   "execution_count": null,
   "metadata": {},
   "outputs": [],
   "source": [
    "db = DBSCAN(min_samples=4, eps=0.3, metric='precomputed').fit(pairwise_distances)\n",
    "labels = db.labels_\n",
    "\n",
    "no_clusters = len(np.unique(labels) )\n",
    "no_noise = np.sum(np.array(labels) == -1, axis=0)\n",
    "\n",
    "print('Estimated num of clusters: %d' % no_clusters)\n",
    "print('Estimated num of noise points: %d' % no_noise)"
   ]
  },
  {
   "cell_type": "code",
   "execution_count": null,
   "metadata": {},
   "outputs": [],
   "source": [
    "print(db.labels_)\n",
    "unique, counts = np.unique(db.labels_, return_counts = True)\n",
    "print(dict(zip(unique, counts)))\n",
    "\n",
    "cluster_freq = dict(zip(unique, counts))\n",
    "print(type(cluster_freq))\n",
    "print(sorted(dict(zip(unique, counts)).items(), key=lambda x:x[1], reverse=True))"
   ]
  },
  {
   "cell_type": "code",
   "execution_count": null,
   "metadata": {},
   "outputs": [],
   "source": [
    "# Obtain text points for each cluster\n",
    "text_points = []\n",
    "unique_labels = set(db.labels_)\n",
    "\n",
    "cluster_counter = 0\n",
    "\n",
    "cluster_rows = []\n",
    "\n",
    "for label in unique_labels:\n",
    "    if label == -1:\n",
    "        continue\n",
    "    if cluster_freq[label] > 7:\n",
    "        cluster_indices = np.where(db.labels_ == label)[0]\n",
    "        print(\"\")\n",
    "        print(f\"Custer number: {cluster_counter}, member in cluster: {len(cluster_indices)}\")\n",
    "        cluster_counter = cluster_counter+1\n",
    "        for ids in cluster_indices:\n",
    "            print(corpus[ids])\n",
    "            cluster_rows.append([comments[ids], corpus[ids], cluster_counter])\n",
    "\n",
    "\n",
    "df = pd.DataFrame(cluster_rows, columns=['Comment', 'Cause', 'Cluster'])\n",
    "\n",
    "# Save the DataFrame to a CSV file\n",
    "df.to_csv('clusters.csv', index=False)\n"
   ]
  }
 ],
 "metadata": {
  "kernelspec": {
   "display_name": "Python 3 (ipykernel)",
   "language": "python",
   "name": "python3"
  },
  "language_info": {
   "codemirror_mode": {
    "name": "ipython",
    "version": 3
   },
   "file_extension": ".py",
   "mimetype": "text/x-python",
   "name": "python",
   "nbconvert_exporter": "python",
   "pygments_lexer": "ipython3",
   "version": "3.10.6"
  }
 },
 "nbformat": 4,
 "nbformat_minor": 2
}
