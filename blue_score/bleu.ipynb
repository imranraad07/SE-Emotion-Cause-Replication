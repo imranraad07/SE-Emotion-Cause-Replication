{
 "cells": [
  {
   "cell_type": "code",
   "execution_count": 41,
   "metadata": {},
   "outputs": [
    {
     "name": "stdout",
     "output_type": "stream",
     "text": [
      "Requirement already satisfied: nltk in /home/imranm3/Desktop/research/SE-Emotion-Cause/.venv/lib/python3.10/site-packages (3.8.1)\n",
      "Requirement already satisfied: click in /home/imranm3/Desktop/research/SE-Emotion-Cause/.venv/lib/python3.10/site-packages (from nltk) (8.1.3)\n",
      "Requirement already satisfied: joblib in /home/imranm3/Desktop/research/SE-Emotion-Cause/.venv/lib/python3.10/site-packages (from nltk) (1.2.0)\n",
      "Requirement already satisfied: regex>=2021.8.3 in /home/imranm3/Desktop/research/SE-Emotion-Cause/.venv/lib/python3.10/site-packages (from nltk) (2023.3.23)\n",
      "Requirement already satisfied: tqdm in /home/imranm3/Desktop/research/SE-Emotion-Cause/.venv/lib/python3.10/site-packages (from nltk) (4.65.0)\n",
      "\n",
      "\u001b[1m[\u001b[0m\u001b[34;49mnotice\u001b[0m\u001b[1;39;49m]\u001b[0m\u001b[39;49m A new release of pip is available: \u001b[0m\u001b[31;49m23.1.1\u001b[0m\u001b[39;49m -> \u001b[0m\u001b[32;49m23.1.2\u001b[0m\n",
      "\u001b[1m[\u001b[0m\u001b[34;49mnotice\u001b[0m\u001b[1;39;49m]\u001b[0m\u001b[39;49m To update, run: \u001b[0m\u001b[32;49mpip install --upgrade pip\u001b[0m\n",
      "Note: you may need to restart the kernel to use updated packages.\n",
      "Requirement already satisfied: pandas in /home/imranm3/Desktop/research/SE-Emotion-Cause/.venv/lib/python3.10/site-packages (2.0.1)\n",
      "Requirement already satisfied: python-dateutil>=2.8.2 in /home/imranm3/Desktop/research/SE-Emotion-Cause/.venv/lib/python3.10/site-packages (from pandas) (2.8.2)\n",
      "Requirement already satisfied: pytz>=2020.1 in /home/imranm3/Desktop/research/SE-Emotion-Cause/.venv/lib/python3.10/site-packages (from pandas) (2023.3)\n",
      "Requirement already satisfied: tzdata>=2022.1 in /home/imranm3/Desktop/research/SE-Emotion-Cause/.venv/lib/python3.10/site-packages (from pandas) (2023.3)\n",
      "Requirement already satisfied: numpy>=1.21.0 in /home/imranm3/Desktop/research/SE-Emotion-Cause/.venv/lib/python3.10/site-packages (from pandas) (1.24.3)\n",
      "Requirement already satisfied: six>=1.5 in /home/imranm3/Desktop/research/SE-Emotion-Cause/.venv/lib/python3.10/site-packages (from python-dateutil>=2.8.2->pandas) (1.16.0)\n",
      "\n",
      "\u001b[1m[\u001b[0m\u001b[34;49mnotice\u001b[0m\u001b[1;39;49m]\u001b[0m\u001b[39;49m A new release of pip is available: \u001b[0m\u001b[31;49m23.1.1\u001b[0m\u001b[39;49m -> \u001b[0m\u001b[32;49m23.1.2\u001b[0m\n",
      "\u001b[1m[\u001b[0m\u001b[34;49mnotice\u001b[0m\u001b[1;39;49m]\u001b[0m\u001b[39;49m To update, run: \u001b[0m\u001b[32;49mpip install --upgrade pip\u001b[0m\n",
      "Note: you may need to restart the kernel to use updated packages.\n",
      "Requirement already satisfied: scikit-learn in /home/imranm3/Desktop/research/SE-Emotion-Cause/.venv/lib/python3.10/site-packages (1.2.2)\n",
      "Requirement already satisfied: numpy>=1.17.3 in /home/imranm3/Desktop/research/SE-Emotion-Cause/.venv/lib/python3.10/site-packages (from scikit-learn) (1.24.3)\n",
      "Requirement already satisfied: scipy>=1.3.2 in /home/imranm3/Desktop/research/SE-Emotion-Cause/.venv/lib/python3.10/site-packages (from scikit-learn) (1.10.1)\n",
      "Requirement already satisfied: joblib>=1.1.1 in /home/imranm3/Desktop/research/SE-Emotion-Cause/.venv/lib/python3.10/site-packages (from scikit-learn) (1.2.0)\n",
      "Requirement already satisfied: threadpoolctl>=2.0.0 in /home/imranm3/Desktop/research/SE-Emotion-Cause/.venv/lib/python3.10/site-packages (from scikit-learn) (3.1.0)\n",
      "\n",
      "\u001b[1m[\u001b[0m\u001b[34;49mnotice\u001b[0m\u001b[1;39;49m]\u001b[0m\u001b[39;49m A new release of pip is available: \u001b[0m\u001b[31;49m23.1.1\u001b[0m\u001b[39;49m -> \u001b[0m\u001b[32;49m23.1.2\u001b[0m\n",
      "\u001b[1m[\u001b[0m\u001b[34;49mnotice\u001b[0m\u001b[1;39;49m]\u001b[0m\u001b[39;49m To update, run: \u001b[0m\u001b[32;49mpip install --upgrade pip\u001b[0m\n",
      "Note: you may need to restart the kernel to use updated packages.\n"
     ]
    },
    {
     "name": "stderr",
     "output_type": "stream",
     "text": [
      "[nltk_data] Downloading package punkt to /home/imranm3/nltk_data...\n",
      "[nltk_data]   Package punkt is already up-to-date!\n",
      "[nltk_data] Downloading package stopwords to\n",
      "[nltk_data]     /home/imranm3/nltk_data...\n",
      "[nltk_data]   Package stopwords is already up-to-date!\n",
      "[nltk_data] Downloading package wordnet to /home/imranm3/nltk_data...\n",
      "[nltk_data]   Package wordnet is already up-to-date!\n",
      "[nltk_data] Downloading package omw-1.4 to /home/imranm3/nltk_data...\n",
      "[nltk_data]   Package omw-1.4 is already up-to-date!\n",
      "[nltk_data] Downloading package averaged_perceptron_tagger to\n",
      "[nltk_data]     /home/imranm3/nltk_data...\n",
      "[nltk_data]   Package averaged_perceptron_tagger is already up-to-\n",
      "[nltk_data]       date!\n"
     ]
    },
    {
     "data": {
      "text/plain": [
       "True"
      ]
     },
     "execution_count": 41,
     "metadata": {},
     "output_type": "execute_result"
    }
   ],
   "source": [
    "import csv\n",
    "from nltk.translate.bleu_score import sentence_bleu\n",
    "import string \n",
    "import re \n",
    "\n",
    "import string\n",
    "\n",
    "%pip install nltk\n",
    "%pip install pandas\n",
    "%pip install scikit-learn\n",
    "\n",
    "import pandas as pd\n",
    "import nltk\n",
    "from nltk.corpus import wordnet\n",
    "\n",
    "nltk.download('punkt')\n",
    "\n",
    "\n",
    "from nltk.stem import WordNetLemmatizer\n",
    "\n",
    "from nltk.corpus import stopwords\n",
    "from sklearn.feature_extraction.text import TfidfVectorizer\n",
    "from sklearn.cluster import DBSCAN\n",
    "from sklearn.preprocessing import StandardScaler\n",
    "import numpy as np\n",
    "import re\n",
    "import nltk\n",
    "from sklearn.metrics.pairwise import cosine_similarity\n",
    "from nltk.stem.porter import PorterStemmer\n",
    "\n",
    "nltk.download('stopwords')\n",
    "nltk.download('wordnet')\n",
    "nltk.download('omw-1.4')\n",
    "nltk.download('averaged_perceptron_tagger')\n",
    "\n"
   ]
  },
  {
   "cell_type": "code",
   "execution_count": 42,
   "metadata": {},
   "outputs": [],
   "source": [
    "\n",
    "\n",
    "lemmatizer = WordNetLemmatizer()\n",
    "\n",
    "sw = stopwords.words('english')\n",
    "porter_stemmer = PorterStemmer()\n",
    "\n",
    "\n",
    "def text_cleaning(text):\n",
    "    text = str (text)\n",
    "\n",
    "    printable = set(string.printable)\n",
    "    text = ''.join(filter(lambda x: x in printable, text))\n",
    "    text = text.replace('\\x00', ' ')  # remove nulls\n",
    "    text = text.replace('\\r', ' ')\n",
    "    text = text.replace('\\n', ' ')\n",
    "    text = re.sub('[^0-9a-zA-Z]+', ' ', text)\n",
    "    text = text.lower()  # Lowercasing\n",
    "\n",
    "    words = nltk.word_tokenize(text)\n",
    "    pos_tags = nltk.pos_tag(words)\n",
    "    wn_tags = {'N': wordnet.NOUN, 'V': wordnet.VERB, 'R': wordnet.ADV, 'J': wordnet.ADJ}\n",
    "    # lemmatize each word with its POS tag\n",
    "    lemmatized_words = []\n",
    "    for word, pos in pos_tags:\n",
    "        if pos[0] in wn_tags:\n",
    "            wn_tag = wn_tags[pos[0]]\n",
    "            lemmatized_words.append(lemmatizer.lemmatize(word, wn_tag))\n",
    "        else:\n",
    "            lemmatized_words.append(word)\n",
    "    text = ' '.join([str(elem) for elem in lemmatized_words])\n",
    "\n",
    "    words= text.split()\n",
    "    stemmed_words=[porter_stemmer.stem(word=word) for word in words] # Stemming\n",
    "    text = ' '.join([str(elem) for elem in stemmed_words])\n",
    "\n",
    "    text = text.strip()\n",
    "    return text\n"
   ]
  },
  {
   "cell_type": "code",
   "execution_count": 43,
   "metadata": {},
   "outputs": [
    {
     "name": "stdout",
     "output_type": "stream",
     "text": [
      "450\n"
     ]
    }
   ],
   "source": [
    "column_comments = []\n",
    "column_gold = []\n",
    "column_chatgpt = []\n",
    "column_gpt4 = []\n",
    "column_flan = []\n",
    "\n",
    "\n",
    "with open('causes.csv', 'r', encoding='utf-8') as csv_file:\n",
    "    csv_reader = csv.reader(csv_file, delimiter=',')\n",
    "    next(csv_reader)\n",
    "    idx = 0\n",
    "    for row in csv_reader:\n",
    "        column_comments.append(text_cleaning(row[1]))\n",
    "        column_gold.append(text_cleaning(row[2]))\n",
    "        column_gpt4.append(text_cleaning(row[3]))\n",
    "        column_chatgpt.append(text_cleaning(row[4]))\n",
    "        column_flan.append(text_cleaning(row[5]))\n",
    "\n",
    "print(len(column_gold))"
   ]
  },
  {
   "cell_type": "code",
   "execution_count": 44,
   "metadata": {},
   "outputs": [
    {
     "name": "stdout",
     "output_type": "stream",
     "text": [
      "13.115555555555556\n"
     ]
    }
   ],
   "source": [
    "word_counter = 0\n",
    "for sentence in column_flan:\n",
    "    word_counter = word_counter + len(sentence.split())\n",
    "print(word_counter/len(column_flan))"
   ]
  },
  {
   "cell_type": "code",
   "execution_count": 45,
   "metadata": {},
   "outputs": [
    {
     "name": "stdout",
     "output_type": "stream",
     "text": [
      "450\n",
      "Average BLEU score: 0.4931138096251629\n"
     ]
    },
    {
     "name": "stderr",
     "output_type": "stream",
     "text": [
      "/home/imranm3/Desktop/research/SE-Emotion-Cause/.venv/lib/python3.10/site-packages/nltk/translate/bleu_score.py:552: UserWarning: \n",
      "The hypothesis contains 0 counts of 2-gram overlaps.\n",
      "Therefore the BLEU score evaluates to 0, independently of\n",
      "how many N-gram overlaps of lower order it contains.\n",
      "Consider using lower n-gram order or use SmoothingFunction()\n",
      "  warnings.warn(_msg)\n"
     ]
    }
   ],
   "source": [
    "# ChatGPT: Calculate the BLEU score for each row in the columns\n",
    "scores = []\n",
    "for i in range(len(column_gold)):\n",
    "    score = sentence_bleu([column_gold[i]], column_chatgpt[i], weights=(0.5, 0.5))\n",
    "    # print(score)\n",
    "    scores.append(score)\n",
    "\n",
    "\n",
    "print(len(scores))\n",
    "\n",
    "# Calculate the average BLEU score for the columns\n",
    "avg_score = sum(scores) / len(scores)\n",
    "\n",
    "print(f\"Average BLEU score: {avg_score}\")"
   ]
  },
  {
   "cell_type": "code",
   "execution_count": 46,
   "metadata": {},
   "outputs": [
    {
     "name": "stdout",
     "output_type": "stream",
     "text": [
      "450\n",
      "Average BLEU score: 0.612333466505718\n"
     ]
    }
   ],
   "source": [
    "# GPT-4: Calculate the BLEU score for each row in the columns\n",
    "scores = []\n",
    "for i in range(len(column_gold)):\n",
    "    score = sentence_bleu([column_gold[i]], column_gpt4[i], weights=(0.5, 0.5))\n",
    "    # print(score)\n",
    "    scores.append(score)\n",
    "\n",
    "\n",
    "print(len(scores))\n",
    "\n",
    "# Calculate the average BLEU score for the columns\n",
    "avg_score = sum(scores) / len(scores)\n",
    "\n",
    "print(f\"Average BLEU score: {avg_score}\")"
   ]
  },
  {
   "cell_type": "code",
   "execution_count": 47,
   "metadata": {},
   "outputs": [
    {
     "name": "stdout",
     "output_type": "stream",
     "text": [
      "450\n",
      "Average BLEU score: 0.5387248995001315\n"
     ]
    }
   ],
   "source": [
    "# flan-alpaca: Calculate the BLEU score for each row in the columns\n",
    "\n",
    "scores = []\n",
    "for i in range(len(column_gold)):\n",
    "    score = sentence_bleu([column_gold[i]], column_flan[i], weights=(0.5, 0.5))\n",
    "    # print(score)\n",
    "    scores.append(score)\n",
    "\n",
    "\n",
    "print(len(scores))\n",
    "\n",
    "# Calculate the average BLEU score for the columns\n",
    "avg_score = sum(scores) / len(scores)\n",
    "\n",
    "print(f\"Average BLEU score: {avg_score}\")"
   ]
  }
 ],
 "metadata": {
  "kernelspec": {
   "display_name": ".venv",
   "language": "python",
   "name": "python3"
  },
  "language_info": {
   "codemirror_mode": {
    "name": "ipython",
    "version": 3
   },
   "file_extension": ".py",
   "mimetype": "text/x-python",
   "name": "python",
   "nbconvert_exporter": "python",
   "pygments_lexer": "ipython3",
   "version": "3.10.6"
  },
  "orig_nbformat": 4
 },
 "nbformat": 4,
 "nbformat_minor": 2
}
